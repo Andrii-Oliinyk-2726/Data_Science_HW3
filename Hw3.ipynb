{
  "nbformat": 4,
  "nbformat_minor": 0,
  "metadata": {
    "colab": {
      "provenance": [],
      "authorship_tag": "ABX9TyNi2yTWWNgJXPmILCuq1p9x",
      "include_colab_link": true
    },
    "kernelspec": {
      "name": "python3",
      "display_name": "Python 3"
    },
    "language_info": {
      "name": "python"
    }
  },
  "cells": [
    {
      "cell_type": "markdown",
      "metadata": {
        "id": "view-in-github",
        "colab_type": "text"
      },
      "source": [
        "<a href=\"https://colab.research.google.com/github/Andrii-Oliinyk-2726/Data_Science_HW3/blob/main/Hw3.ipynb\" target=\"_parent\"><img src=\"https://colab.research.google.com/assets/colab-badge.svg\" alt=\"Open In Colab\"/></a>"
      ]
    },
    {
      "cell_type": "code",
      "source": [
        "import numpy as np\n",
        "import pandas as pd\n",
        "import matplotlib.pyplot as plt\n",
        "from sklearn.linear_model import LinearRegression\n",
        "from sklearn.metrics import mean_squared_error\n"
      ],
      "metadata": {
        "id": "jOLhrNQDLwDp"
      },
      "execution_count": 1,
      "outputs": []
    },
    {
      "cell_type": "code",
      "source": [
        "# напишіть функцію гіпотези лінійної регресії у векторному вигляді\n",
        "def hipotes_function(w, X):\n",
        "    return np.dot(X, w)\n",
        ""
      ],
      "metadata": {
        "id": "_y2Z3Yy-9h7q"
      },
      "execution_count": 5,
      "outputs": []
    },
    {
      "cell_type": "code",
      "source": [
        "# створіть функцію для обчислення функції втрат у векторному вигляді\n",
        "def loss_function(w, X, df):\n",
        "    n = len(df)\n",
        "    predictions = hipotes_function(w, X)\n",
        "    squared_errors = (predictions - df) ** 2\n",
        "    mse = np.sum(squared_errors) / (2 * n)\n",
        "    return mse"
      ],
      "metadata": {
        "id": "mNQ68IJ69zAi"
      },
      "execution_count": 8,
      "outputs": []
    },
    {
      "cell_type": "code",
      "source": [
        "# реалізуйте один крок градієнтного спуску\n",
        "def step_gradient(w, X, df, learning_rate):\n",
        "    n =len(df)\n",
        "    h = hipotes_function(w, X)\n",
        "    error = hipotes_function(w, X) - df\n",
        "    gradient = np.dot(X.T, error) / n\n",
        "    return (w - learning_rate * gradient)"
      ],
      "metadata": {
        "id": "Kn9Ua0X3EVdy"
      },
      "execution_count": 8,
      "outputs": []
    },
    {
      "cell_type": "code",
      "source": [
        "# знайдіть найкращі параметри $\\vec{w}$ для датасету прогнозуючу ціну на будинок залежно від площі, кількості ванних кімнат та кількості спалень\n",
        "\n",
        "# Завантаження даних\n",
        "from google.colab import files\n",
        "uploaded = files.upload()\n",
        "df = pd.read_csv(\"Housing.csv\")\n",
        "\n",
        "# Вибираємо числові стовпці для нормалізації\n",
        "numeric_cols = ['price', 'area', 'bedrooms', 'bathrooms']\n",
        "\n",
        "# Нормалізація ознак (стандартизація)\n",
        "df_norm = (df[numeric_cols] - df[numeric_cols].mean()) / df[numeric_cols].std()\n",
        "\n",
        "# Додати стовпець з одиницями для вільного члена\n",
        "df_norm['bias'] = 1\n",
        "\n",
        "# Визначення ознак і векторів цільових значень\n",
        "X = df_norm[['area', 'bedrooms', 'bathrooms', 'bias']].values\n",
        "y = df_norm['price'].values\n",
        "\n",
        "# Ініціалізація параметрів w\n",
        "w = np.zeros(X.shape[1])\n",
        "\n",
        "# Гіперпараметри\n",
        "alpha = 0.001  # Величина кроку (learning rate)\n",
        "iterations = 100000  # Кількість ітерацій\n",
        "\n",
        "# Градієнтний спуск\n",
        "for _ in range(iterations):\n",
        "    # Обчислити прогнози моделі\n",
        "    predictions = np.dot(X, w)\n",
        "\n",
        "    # Обчислити помилку\n",
        "    errors = y - predictions\n",
        "\n",
        "    # Обчислити градієнт\n",
        "    gradient = -2 * np.dot(X.T, errors) / len(y)\n",
        "\n",
        "    # Оновити параметри w\n",
        "    w -= alpha * gradient\n",
        "\n",
        "# Надрукувати найкращі параметри w\n",
        "print(\"Найкращі параметри w:\", w)\n"
      ],
      "metadata": {
        "colab": {
          "base_uri": "https://localhost:8080/",
          "height": 90
        },
        "id": "O0fOO7wvfzXu",
        "outputId": "aa93857c-6d13-4898-f27e-abf9f3c80d9b"
      },
      "execution_count": 12,
      "outputs": [
        {
          "output_type": "display_data",
          "data": {
            "text/plain": [
              "<IPython.core.display.HTML object>"
            ],
            "text/html": [
              "\n",
              "     <input type=\"file\" id=\"files-658ee3bc-4dcd-4c60-82a6-eee2cbbdc116\" name=\"files[]\" multiple disabled\n",
              "        style=\"border:none\" />\n",
              "     <output id=\"result-658ee3bc-4dcd-4c60-82a6-eee2cbbdc116\">\n",
              "      Upload widget is only available when the cell has been executed in the\n",
              "      current browser session. Please rerun this cell to enable.\n",
              "      </output>\n",
              "      <script>// Copyright 2017 Google LLC\n",
              "//\n",
              "// Licensed under the Apache License, Version 2.0 (the \"License\");\n",
              "// you may not use this file except in compliance with the License.\n",
              "// You may obtain a copy of the License at\n",
              "//\n",
              "//      http://www.apache.org/licenses/LICENSE-2.0\n",
              "//\n",
              "// Unless required by applicable law or agreed to in writing, software\n",
              "// distributed under the License is distributed on an \"AS IS\" BASIS,\n",
              "// WITHOUT WARRANTIES OR CONDITIONS OF ANY KIND, either express or implied.\n",
              "// See the License for the specific language governing permissions and\n",
              "// limitations under the License.\n",
              "\n",
              "/**\n",
              " * @fileoverview Helpers for google.colab Python module.\n",
              " */\n",
              "(function(scope) {\n",
              "function span(text, styleAttributes = {}) {\n",
              "  const element = document.createElement('span');\n",
              "  element.textContent = text;\n",
              "  for (const key of Object.keys(styleAttributes)) {\n",
              "    element.style[key] = styleAttributes[key];\n",
              "  }\n",
              "  return element;\n",
              "}\n",
              "\n",
              "// Max number of bytes which will be uploaded at a time.\n",
              "const MAX_PAYLOAD_SIZE = 100 * 1024;\n",
              "\n",
              "function _uploadFiles(inputId, outputId) {\n",
              "  const steps = uploadFilesStep(inputId, outputId);\n",
              "  const outputElement = document.getElementById(outputId);\n",
              "  // Cache steps on the outputElement to make it available for the next call\n",
              "  // to uploadFilesContinue from Python.\n",
              "  outputElement.steps = steps;\n",
              "\n",
              "  return _uploadFilesContinue(outputId);\n",
              "}\n",
              "\n",
              "// This is roughly an async generator (not supported in the browser yet),\n",
              "// where there are multiple asynchronous steps and the Python side is going\n",
              "// to poll for completion of each step.\n",
              "// This uses a Promise to block the python side on completion of each step,\n",
              "// then passes the result of the previous step as the input to the next step.\n",
              "function _uploadFilesContinue(outputId) {\n",
              "  const outputElement = document.getElementById(outputId);\n",
              "  const steps = outputElement.steps;\n",
              "\n",
              "  const next = steps.next(outputElement.lastPromiseValue);\n",
              "  return Promise.resolve(next.value.promise).then((value) => {\n",
              "    // Cache the last promise value to make it available to the next\n",
              "    // step of the generator.\n",
              "    outputElement.lastPromiseValue = value;\n",
              "    return next.value.response;\n",
              "  });\n",
              "}\n",
              "\n",
              "/**\n",
              " * Generator function which is called between each async step of the upload\n",
              " * process.\n",
              " * @param {string} inputId Element ID of the input file picker element.\n",
              " * @param {string} outputId Element ID of the output display.\n",
              " * @return {!Iterable<!Object>} Iterable of next steps.\n",
              " */\n",
              "function* uploadFilesStep(inputId, outputId) {\n",
              "  const inputElement = document.getElementById(inputId);\n",
              "  inputElement.disabled = false;\n",
              "\n",
              "  const outputElement = document.getElementById(outputId);\n",
              "  outputElement.innerHTML = '';\n",
              "\n",
              "  const pickedPromise = new Promise((resolve) => {\n",
              "    inputElement.addEventListener('change', (e) => {\n",
              "      resolve(e.target.files);\n",
              "    });\n",
              "  });\n",
              "\n",
              "  const cancel = document.createElement('button');\n",
              "  inputElement.parentElement.appendChild(cancel);\n",
              "  cancel.textContent = 'Cancel upload';\n",
              "  const cancelPromise = new Promise((resolve) => {\n",
              "    cancel.onclick = () => {\n",
              "      resolve(null);\n",
              "    };\n",
              "  });\n",
              "\n",
              "  // Wait for the user to pick the files.\n",
              "  const files = yield {\n",
              "    promise: Promise.race([pickedPromise, cancelPromise]),\n",
              "    response: {\n",
              "      action: 'starting',\n",
              "    }\n",
              "  };\n",
              "\n",
              "  cancel.remove();\n",
              "\n",
              "  // Disable the input element since further picks are not allowed.\n",
              "  inputElement.disabled = true;\n",
              "\n",
              "  if (!files) {\n",
              "    return {\n",
              "      response: {\n",
              "        action: 'complete',\n",
              "      }\n",
              "    };\n",
              "  }\n",
              "\n",
              "  for (const file of files) {\n",
              "    const li = document.createElement('li');\n",
              "    li.append(span(file.name, {fontWeight: 'bold'}));\n",
              "    li.append(span(\n",
              "        `(${file.type || 'n/a'}) - ${file.size} bytes, ` +\n",
              "        `last modified: ${\n",
              "            file.lastModifiedDate ? file.lastModifiedDate.toLocaleDateString() :\n",
              "                                    'n/a'} - `));\n",
              "    const percent = span('0% done');\n",
              "    li.appendChild(percent);\n",
              "\n",
              "    outputElement.appendChild(li);\n",
              "\n",
              "    const fileDataPromise = new Promise((resolve) => {\n",
              "      const reader = new FileReader();\n",
              "      reader.onload = (e) => {\n",
              "        resolve(e.target.result);\n",
              "      };\n",
              "      reader.readAsArrayBuffer(file);\n",
              "    });\n",
              "    // Wait for the data to be ready.\n",
              "    let fileData = yield {\n",
              "      promise: fileDataPromise,\n",
              "      response: {\n",
              "        action: 'continue',\n",
              "      }\n",
              "    };\n",
              "\n",
              "    // Use a chunked sending to avoid message size limits. See b/62115660.\n",
              "    let position = 0;\n",
              "    do {\n",
              "      const length = Math.min(fileData.byteLength - position, MAX_PAYLOAD_SIZE);\n",
              "      const chunk = new Uint8Array(fileData, position, length);\n",
              "      position += length;\n",
              "\n",
              "      const base64 = btoa(String.fromCharCode.apply(null, chunk));\n",
              "      yield {\n",
              "        response: {\n",
              "          action: 'append',\n",
              "          file: file.name,\n",
              "          data: base64,\n",
              "        },\n",
              "      };\n",
              "\n",
              "      let percentDone = fileData.byteLength === 0 ?\n",
              "          100 :\n",
              "          Math.round((position / fileData.byteLength) * 100);\n",
              "      percent.textContent = `${percentDone}% done`;\n",
              "\n",
              "    } while (position < fileData.byteLength);\n",
              "  }\n",
              "\n",
              "  // All done.\n",
              "  yield {\n",
              "    response: {\n",
              "      action: 'complete',\n",
              "    }\n",
              "  };\n",
              "}\n",
              "\n",
              "scope.google = scope.google || {};\n",
              "scope.google.colab = scope.google.colab || {};\n",
              "scope.google.colab._files = {\n",
              "  _uploadFiles,\n",
              "  _uploadFilesContinue,\n",
              "};\n",
              "})(self);\n",
              "</script> "
            ]
          },
          "metadata": {}
        },
        {
          "output_type": "stream",
          "name": "stdout",
          "text": [
            "Saving Housing.csv to Housing (1).csv\n",
            "Найкращі параметри w: [4.39452085e-01 1.60528660e-01 3.72344423e-01 2.63626022e-16]\n"
          ]
        }
      ]
    },
    {
      "cell_type": "code",
      "source": [
        "# знайдіть ці ж параметри за допомогою аналітичного рішення\n",
        "import numpy as np\n",
        "import pandas as pd\n",
        "from sklearn.linear_model import LinearRegression\n",
        "\n",
        "# Завантаження даних\n",
        "df = pd.read_csv(\"Housing.csv\")\n",
        "\n",
        "# Визначення ознак і векторів цільових значень\n",
        "X = df[['area', 'bedrooms', 'bathrooms']].values\n",
        "y = df['price'].values\n",
        "\n",
        "# Створення моделі лінійної регресії\n",
        "model = LinearRegression()\n",
        "\n",
        "# Навчання моделі на даних\n",
        "model.fit(X, y)\n",
        "\n",
        "# Вивід оптимальних параметрів\n",
        "print(\"Коефіцієнти w:\", model.coef_)\n",
        "print(\"Вільний член w0:\", model.intercept_)\n"
      ],
      "metadata": {
        "colab": {
          "base_uri": "https://localhost:8080/"
        },
        "id": "XjivGAUmhi9p",
        "outputId": "5197c8a6-778e-4088-f28f-28626d963238"
      },
      "execution_count": 17,
      "outputs": [
        {
          "output_type": "stream",
          "name": "stdout",
          "text": [
            "Коефіцієнти w: [3.78762754e+02 4.06820034e+05 1.38604950e+06]\n",
            "Вільний член w0: -173171.6076326361\n"
          ]
        }
      ]
    },
    {
      "cell_type": "code",
      "source": [
        "# порівняйте отримані результати\n",
        "# 1й розрахунок:\n",
        "# Найкращі параметри w: [4.39452085e-01 1.60528660e-01 3.72344423e-01 2.63626022e-16]\n",
        "\n",
        "# 2й розрахунок:\n",
        "# Найкращі параметри w: [3.78762754e+02 4.06820034e+05 1.38604950e+06 -173171.6076326361]\n",
        "\n",
        "На жаль, параметри w трошки відрізняються\n",
        "P.S. Вийшло як у тому анекдоті про пожежників:\"Приехали вовремя, тушили правильно, сгорело все\""
      ],
      "metadata": {
        "id": "D0Q8bWbbE6tu"
      },
      "execution_count": 13,
      "outputs": []
    }
  ]
}